{
 "cells": [
  {
   "cell_type": "code",
   "execution_count": 2,
   "id": "e9d82a9f",
   "metadata": {},
   "outputs": [],
   "source": [
    "a=\"anurag gupta\""
   ]
  },
  {
   "cell_type": "code",
   "execution_count": 3,
   "id": "9fa42397",
   "metadata": {},
   "outputs": [
    {
     "data": {
      "text/plain": [
       "'Anurag Gupta'"
      ]
     },
     "execution_count": 3,
     "metadata": {},
     "output_type": "execute_result"
    }
   ],
   "source": [
    "a.title()"
   ]
  },
  {
   "cell_type": "code",
   "execution_count": 4,
   "id": "f09a6b83",
   "metadata": {},
   "outputs": [
    {
     "data": {
      "text/plain": [
       "'Anurag gupta'"
      ]
     },
     "execution_count": 4,
     "metadata": {},
     "output_type": "execute_result"
    }
   ],
   "source": [
    "a.capitalize()"
   ]
  },
  {
   "cell_type": "code",
   "execution_count": 5,
   "id": "dbef41f4",
   "metadata": {},
   "outputs": [
    {
     "data": {
      "text/plain": [
       "'ANURAG GUPTA'"
      ]
     },
     "execution_count": 5,
     "metadata": {},
     "output_type": "execute_result"
    }
   ],
   "source": [
    "a.swapcase()"
   ]
  },
  {
   "cell_type": "markdown",
   "id": "4e1718bd",
   "metadata": {},
   "source": [
    "reversed(a)  reverse always return an object "
   ]
  },
  {
   "cell_type": "code",
   "execution_count": 6,
   "id": "ddf4458f",
   "metadata": {},
   "outputs": [
    {
     "data": {
      "text/plain": [
       "'atpug garuna'"
      ]
     },
     "execution_count": 6,
     "metadata": {},
     "output_type": "execute_result"
    }
   ],
   "source": [
    "''.join(reversed(a))"
   ]
  },
  {
   "cell_type": "code",
   "execution_count": 7,
   "id": "6cd24ff5",
   "metadata": {},
   "outputs": [
    {
     "data": {
      "text/plain": [
       "'atpug garuna'"
      ]
     },
     "execution_count": 7,
     "metadata": {},
     "output_type": "execute_result"
    }
   ],
   "source": [
    "a[::-1]"
   ]
  },
  {
   "cell_type": "code",
   "execution_count": 8,
   "id": "00909de1",
   "metadata": {},
   "outputs": [
    {
     "data": {
      "text/plain": [
       "'anurag'"
      ]
     },
     "execution_count": 8,
     "metadata": {},
     "output_type": "execute_result"
    }
   ],
   "source": [
    "str=\"     anurag     \"\n",
    "str.strip()"
   ]
  },
  {
   "cell_type": "code",
   "execution_count": 9,
   "id": "78bfe2e0",
   "metadata": {},
   "outputs": [
    {
     "data": {
      "text/plain": [
       "'an  ur  ag'"
      ]
     },
     "execution_count": 9,
     "metadata": {},
     "output_type": "execute_result"
    }
   ],
   "source": [
    "str1=\"   an  ur  ag    \"\n",
    "str1.strip()"
   ]
  },
  {
   "cell_type": "code",
   "execution_count": 10,
   "id": "8c513347",
   "metadata": {},
   "outputs": [
    {
     "data": {
      "text/plain": [
       "'anurag     '"
      ]
     },
     "execution_count": 10,
     "metadata": {},
     "output_type": "execute_result"
    }
   ],
   "source": [
    "str.lstrip()"
   ]
  },
  {
   "cell_type": "code",
   "execution_count": 11,
   "id": "a1760906",
   "metadata": {},
   "outputs": [
    {
     "data": {
      "text/plain": [
       "'     anurag'"
      ]
     },
     "execution_count": 11,
     "metadata": {},
     "output_type": "execute_result"
    }
   ],
   "source": [
    "str.rstrip()"
   ]
  },
  {
   "cell_type": "code",
   "execution_count": 12,
   "id": "f46a45cc",
   "metadata": {},
   "outputs": [
    {
     "data": {
      "text/plain": [
       "'a n u r a g'"
      ]
     },
     "execution_count": 12,
     "metadata": {},
     "output_type": "execute_result"
    }
   ],
   "source": [
    " \" \".join(\"anurag\")"
   ]
  },
  {
   "cell_type": "code",
   "execution_count": 13,
   "id": "370474fa",
   "metadata": {},
   "outputs": [
    {
     "data": {
      "text/plain": [
       "'aa     anurag     aa'"
      ]
     },
     "execution_count": 13,
     "metadata": {},
     "output_type": "execute_result"
    }
   ],
   "source": [
    "str.center(20, 'a')"
   ]
  },
  {
   "cell_type": "code",
   "execution_count": 14,
   "id": "40c94c8f",
   "metadata": {},
   "outputs": [
    {
     "data": {
      "text/plain": [
       "False"
      ]
     },
     "execution_count": 14,
     "metadata": {},
     "output_type": "execute_result"
    }
   ],
   "source": [
    "str.isalnum()"
   ]
  },
  {
   "cell_type": "code",
   "execution_count": 15,
   "id": "187deb7b",
   "metadata": {},
   "outputs": [
    {
     "data": {
      "text/plain": [
       "False"
      ]
     },
     "execution_count": 15,
     "metadata": {},
     "output_type": "execute_result"
    }
   ],
   "source": [
    "str.isupper()"
   ]
  },
  {
   "cell_type": "code",
   "execution_count": 16,
   "id": "ca04965d",
   "metadata": {},
   "outputs": [
    {
     "data": {
      "text/plain": [
       "True"
      ]
     },
     "execution_count": 16,
     "metadata": {},
     "output_type": "execute_result"
    }
   ],
   "source": [
    "str.islower()"
   ]
  },
  {
   "cell_type": "code",
   "execution_count": 17,
   "id": "a2a158fd",
   "metadata": {},
   "outputs": [],
   "source": [
    "s2=\"sudh\"\n"
   ]
  },
  {
   "cell_type": "code",
   "execution_count": 18,
   "id": "0dc2eb20",
   "metadata": {},
   "outputs": [
    {
     "data": {
      "text/plain": [
       "False"
      ]
     },
     "execution_count": 18,
     "metadata": {},
     "output_type": "execute_result"
    }
   ],
   "source": [
    "str.isspace()"
   ]
  },
  {
   "cell_type": "code",
   "execution_count": 19,
   "id": "b2151130",
   "metadata": {},
   "outputs": [
    {
     "data": {
      "text/plain": [
       "True"
      ]
     },
     "execution_count": 19,
     "metadata": {},
     "output_type": "execute_result"
    }
   ],
   "source": [
    "s4=\"  \"\n",
    "s4.isspace()"
   ]
  },
  {
   "cell_type": "code",
   "execution_count": 20,
   "id": "b646cb97",
   "metadata": {},
   "outputs": [
    {
     "data": {
      "text/plain": [
       "False"
      ]
     },
     "execution_count": 20,
     "metadata": {},
     "output_type": "execute_result"
    }
   ],
   "source": [
    "s4.isdigit()"
   ]
  },
  {
   "cell_type": "code",
   "execution_count": 21,
   "id": "3d3be1cb",
   "metadata": {},
   "outputs": [
    {
     "data": {
      "text/plain": [
       "False"
      ]
     },
     "execution_count": 21,
     "metadata": {},
     "output_type": "execute_result"
    }
   ],
   "source": [
    "s5=\"345678a\"\n",
    "s5.isdigit()"
   ]
  },
  {
   "cell_type": "code",
   "execution_count": 22,
   "id": "733a3b64",
   "metadata": {},
   "outputs": [
    {
     "data": {
      "text/plain": [
       "False"
      ]
     },
     "execution_count": 22,
     "metadata": {},
     "output_type": "execute_result"
    }
   ],
   "source": [
    "s5.isdigit()"
   ]
  },
  {
   "cell_type": "code",
   "execution_count": 23,
   "id": "369d1cc3",
   "metadata": {},
   "outputs": [
    {
     "data": {
      "text/plain": [
       "True"
      ]
     },
     "execution_count": 23,
     "metadata": {},
     "output_type": "execute_result"
    }
   ],
   "source": [
    "s5.isalnum()"
   ]
  },
  {
   "cell_type": "code",
   "execution_count": 24,
   "id": "1a2f61a7",
   "metadata": {},
   "outputs": [
    {
     "data": {
      "text/plain": [
       "False"
      ]
     },
     "execution_count": 24,
     "metadata": {},
     "output_type": "execute_result"
    }
   ],
   "source": [
    "s5.isalpha()"
   ]
  },
  {
   "cell_type": "code",
   "execution_count": 25,
   "id": "40a1d5bb",
   "metadata": {},
   "outputs": [
    {
     "data": {
      "text/plain": [
       "False"
      ]
     },
     "execution_count": 25,
     "metadata": {},
     "output_type": "execute_result"
    }
   ],
   "source": [
    "s7=\"1234567876543\"\n",
    "s7.isalpha()"
   ]
  },
  {
   "cell_type": "code",
   "execution_count": 26,
   "id": "f2728f42",
   "metadata": {},
   "outputs": [
    {
     "data": {
      "text/plain": [
       "False"
      ]
     },
     "execution_count": 26,
     "metadata": {},
     "output_type": "execute_result"
    }
   ],
   "source": [
    "s8=\" \"\n",
    "s8.isalpha()"
   ]
  },
  {
   "cell_type": "code",
   "execution_count": 27,
   "id": "3cb59a30",
   "metadata": {},
   "outputs": [
    {
     "data": {
      "text/plain": [
       "False"
      ]
     },
     "execution_count": 27,
     "metadata": {},
     "output_type": "execute_result"
    }
   ],
   "source": [
    "s8.isalnum()"
   ]
  },
  {
   "cell_type": "code",
   "execution_count": 28,
   "id": "cd5b6c45",
   "metadata": {},
   "outputs": [
    {
     "data": {
      "text/plain": [
       "False"
      ]
     },
     "execution_count": 28,
     "metadata": {},
     "output_type": "execute_result"
    }
   ],
   "source": [
    "s9=\"2345543.2\"\n",
    "s9.isnumeric()"
   ]
  },
  {
   "cell_type": "code",
   "execution_count": 29,
   "id": "9426942a",
   "metadata": {},
   "outputs": [],
   "source": [
    "s=\"sudhanshu\\tkumar\\tineuron\"\n"
   ]
  },
  {
   "cell_type": "code",
   "execution_count": 30,
   "id": "3281f14c",
   "metadata": {},
   "outputs": [
    {
     "data": {
      "text/plain": [
       "'sudhanshu       kumar   ineuron'"
      ]
     },
     "execution_count": 30,
     "metadata": {},
     "output_type": "execute_result"
    }
   ],
   "source": [
    "s.expandtabs()"
   ]
  },
  {
   "cell_type": "raw",
   "id": "c21c47ed",
   "metadata": {},
   "source": [
    "s=\"this is my first python programming class and i am learning python string and its function\"\n",
    "1.Try to extract data from index one to index 300 with a jump of 3\n",
    "2.Try to reverse a string without using reverse function\n",
    "3.Try to split a string after conversion of entire string in upper case\n",
    "4.try to convert the whole string into lower case\n",
    "5.try to capitalse the whole string\n",
    "6.write a difference between isalnum() and isalpha()\n",
    "7.try to give an example of expand tab\n",
    "8.give an exapmle of strip,lstripand rstrip()\n",
    "9.Replace a string character  by another character  by taking your own exapmle\n",
    "10.try to give a defination of string center function with an example \n",
    "11.write your own defination of compiler and interpreter withput copy paste from internet\n",
    "12.python is a interpreted or compiled language.give a clear examplewith your understanding\n",
    "13.try to write a use case of python with your understanding\n",
    " "
   ]
  },
  {
   "cell_type": "code",
   "execution_count": 31,
   "id": "6ad64a90",
   "metadata": {},
   "outputs": [],
   "source": [
    "an=\"this is my first python programming class and i am learning python string and its function\""
   ]
  },
  {
   "cell_type": "markdown",
   "id": "56eaf69f",
   "metadata": {},
   "source": [
    "Ans1:"
   ]
  },
  {
   "cell_type": "code",
   "execution_count": 32,
   "id": "73b520f7",
   "metadata": {},
   "outputs": [
    {
     "data": {
      "text/plain": [
       "'h   r tnrrmglsnimengyosi dtfco'"
      ]
     },
     "execution_count": 32,
     "metadata": {},
     "output_type": "execute_result"
    }
   ],
   "source": [
    "an[1:300:3]"
   ]
  },
  {
   "cell_type": "markdown",
   "id": "59acf180",
   "metadata": {},
   "source": [
    "ans2"
   ]
  },
  {
   "cell_type": "code",
   "execution_count": 33,
   "id": "bbb93d0f",
   "metadata": {},
   "outputs": [
    {
     "data": {
      "text/plain": [
       "'noitcnuf sti dna gnirts nohtyp gninrael ma i dna ssalc gnimmargorp nohtyp tsrif ym si siht'"
      ]
     },
     "execution_count": 33,
     "metadata": {},
     "output_type": "execute_result"
    }
   ],
   "source": [
    "an[::-1]"
   ]
  },
  {
   "cell_type": "markdown",
   "id": "a5ab8e67",
   "metadata": {},
   "source": [
    "ans3"
   ]
  },
  {
   "cell_type": "code",
   "execution_count": 34,
   "id": "3dc04a5d",
   "metadata": {},
   "outputs": [
    {
     "data": {
      "text/plain": [
       "['THIS',\n",
       " 'IS',\n",
       " 'MY',\n",
       " 'FIRST',\n",
       " 'PYTHON',\n",
       " 'PROGRAMMING',\n",
       " 'CLASS',\n",
       " 'AND',\n",
       " 'I',\n",
       " 'AM',\n",
       " 'LEARNING',\n",
       " 'PYTHON',\n",
       " 'STRING',\n",
       " 'AND',\n",
       " 'ITS',\n",
       " 'FUNCTION']"
      ]
     },
     "execution_count": 34,
     "metadata": {},
     "output_type": "execute_result"
    }
   ],
   "source": [
    "s=an.upper()\n",
    "s.split(' ')"
   ]
  },
  {
   "cell_type": "markdown",
   "id": "aee6973f",
   "metadata": {},
   "source": [
    "Ans4"
   ]
  },
  {
   "cell_type": "code",
   "execution_count": 35,
   "id": "bfba1337",
   "metadata": {},
   "outputs": [
    {
     "data": {
      "text/plain": [
       "'this is my first python programming class and i am learning python string and its function'"
      ]
     },
     "execution_count": 35,
     "metadata": {},
     "output_type": "execute_result"
    }
   ],
   "source": [
    "an.lower()"
   ]
  },
  {
   "cell_type": "markdown",
   "id": "838c5c28",
   "metadata": {},
   "source": [
    "Ans5"
   ]
  },
  {
   "cell_type": "code",
   "execution_count": 37,
   "id": "98225750",
   "metadata": {},
   "outputs": [
    {
     "data": {
      "text/plain": [
       "'This Is My First Python Programming Class And I Am Learning Python String And Its Function'"
      ]
     },
     "execution_count": 37,
     "metadata": {},
     "output_type": "execute_result"
    }
   ],
   "source": [
    "an.title()"
   ]
  },
  {
   "cell_type": "markdown",
   "id": "c4c11335",
   "metadata": {},
   "source": [
    "Ans6"
   ]
  },
  {
   "cell_type": "markdown",
   "id": "91836083",
   "metadata": {},
   "source": [
    "isalpha()-It checks the string containing only alphabets.No other number, special character \n",
    "example:if str=\"anurag\" then if i apply str.isalpha() then it shows that true(means it contain only alphabet)\n",
    "isalnum():it checks both alphabets and numeric contain in the string.\n",
    "    example:str1=\"anu12\", yes it contain alphabet and num in the string\n",
    "        "
   ]
  },
  {
   "cell_type": "markdown",
   "id": "f42d012a",
   "metadata": {},
   "source": [
    "Ans7"
   ]
  },
  {
   "cell_type": "code",
   "execution_count": 39,
   "id": "0b653e6f",
   "metadata": {},
   "outputs": [
    {
     "data": {
      "text/plain": [
       "'anurag  gupta   123'"
      ]
     },
     "execution_count": 39,
     "metadata": {},
     "output_type": "execute_result"
    }
   ],
   "source": [
    "x=\"anurag \\tgupta\\t123\"\n",
    "x.expandtabs()"
   ]
  },
  {
   "cell_type": "markdown",
   "id": "1d22ed58",
   "metadata": {},
   "source": [
    "Ans8"
   ]
  },
  {
   "cell_type": "code",
   "execution_count": 46,
   "id": "b83c5bfa",
   "metadata": {},
   "outputs": [
    {
     "data": {
      "text/plain": [
       "'anurag'"
      ]
     },
     "execution_count": 46,
     "metadata": {},
     "output_type": "execute_result"
    }
   ],
   "source": [
    "str=\"     anurag     \"\n",
    "str.strip()\n"
   ]
  },
  {
   "cell_type": "code",
   "execution_count": 44,
   "id": "d8605ee6",
   "metadata": {},
   "outputs": [
    {
     "data": {
      "text/plain": [
       "'anurag     '"
      ]
     },
     "execution_count": 44,
     "metadata": {},
     "output_type": "execute_result"
    }
   ],
   "source": [
    "str.lstrip()\n"
   ]
  },
  {
   "cell_type": "code",
   "execution_count": 45,
   "id": "3b6615b9",
   "metadata": {},
   "outputs": [
    {
     "data": {
      "text/plain": [
       "'     anurag'"
      ]
     },
     "execution_count": 45,
     "metadata": {},
     "output_type": "execute_result"
    }
   ],
   "source": [
    "str.rstrip()"
   ]
  },
  {
   "cell_type": "markdown",
   "id": "eddb5207",
   "metadata": {},
   "source": [
    "Ans9"
   ]
  },
  {
   "cell_type": "code",
   "execution_count": 52,
   "id": "38904e0b",
   "metadata": {},
   "outputs": [],
   "source": [
    "str=\"Ms Aman kumar\""
   ]
  },
  {
   "cell_type": "code",
   "execution_count": 53,
   "id": "bea2cbec",
   "metadata": {},
   "outputs": [
    {
     "data": {
      "text/plain": [
       "'Ms Nman kumar'"
      ]
     },
     "execution_count": 53,
     "metadata": {},
     "output_type": "execute_result"
    }
   ],
   "source": [
    "str.replace('A','N')"
   ]
  },
  {
   "cell_type": "markdown",
   "id": "720e067c",
   "metadata": {},
   "source": [
    "Ans10"
   ]
  },
  {
   "cell_type": "markdown",
   "id": "74831689",
   "metadata": {},
   "source": [
    "Center func()-It basically alligned a string in a center \n",
    "\n",
    "Exam:mystr=\"Anurag\"\n",
    "    and i want to allign my string in center of the horizontal line\n",
    "    and suppose a line width is 50 and i want to put my str in center of the horizontal line\n",
    "    mystr.center(50,\" \")"
   ]
  },
  {
   "cell_type": "code",
   "execution_count": 58,
   "id": "ad7dacb0",
   "metadata": {},
   "outputs": [
    {
     "data": {
      "text/plain": [
       "'                      Anurag                      '"
      ]
     },
     "execution_count": 58,
     "metadata": {},
     "output_type": "execute_result"
    }
   ],
   "source": [
    "mystr=\"Anurag\"\n",
    "mystr.center(50,\" \")"
   ]
  },
  {
   "cell_type": "markdown",
   "id": "f36460d2",
   "metadata": {},
   "source": [
    "Ans11"
   ]
  },
  {
   "cell_type": "markdown",
   "id": "d574896d",
   "metadata": {},
   "source": [
    "Compiler-it compiles the whole code in 1 go.ex-c++,java\n",
    "interpreter-it compile the code line by line ex-PHP\n",
    "And because of this compiler is faster than interpreter\n"
   ]
  },
  {
   "cell_type": "markdown",
   "id": "e2b5e942",
   "metadata": {},
   "source": [
    "Ans12 i understand the term used in answer.i took a reference from GFG"
   ]
  },
  {
   "cell_type": "markdown",
   "id": "f0a43088",
   "metadata": {},
   "source": [
    "Python is an interpreted language but not completely.\n",
    "Python hides the compiled part from the coder and many programmer think that it is an interpreted language. \n",
    "\n",
    "EXAMPLE\n",
    "print(\"this is my world\")\n",
    "\n",
    "save the file with .py extension\n",
    "Create a folder in d:/python_prog and this will contain the byte code of your program\n",
    "    typr in cmd\n",
    "    d:/python_prog>python-m py_compile filename.py\n",
    "    \n",
    " A folder created and this will contain the byte code of your program. \n",
    "This folder is in the python_prog folder where you will save your python codes\n",
    "now to run the compiled byte code just type the following command in the command prompt:-\n",
    "    d:/python_prog/__pycache__>python first.cpython-37.pyc\n",
    "    \n"
   ]
  },
  {
   "cell_type": "code",
   "execution_count": null,
   "id": "3224b5e4",
   "metadata": {},
   "outputs": [],
   "source": [
    "Ans 13\n",
    "use case of python .\n",
    "used in building websites\n",
    "used in editor building like notepad,notepad++\n",
    "use in machine learning or we can say AI used in projects"
   ]
  }
 ],
 "metadata": {
  "kernelspec": {
   "display_name": "Python 3 (ipykernel)",
   "language": "python",
   "name": "python3"
  },
  "language_info": {
   "codemirror_mode": {
    "name": "ipython",
    "version": 3
   },
   "file_extension": ".py",
   "mimetype": "text/x-python",
   "name": "python",
   "nbconvert_exporter": "python",
   "pygments_lexer": "ipython3",
   "version": "3.9.12"
  }
 },
 "nbformat": 4,
 "nbformat_minor": 5
}
